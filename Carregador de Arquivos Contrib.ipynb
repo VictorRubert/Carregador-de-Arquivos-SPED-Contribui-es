{
 "cells": [
  {
   "cell_type": "code",
   "execution_count": 26,
   "id": "cfcc2866",
   "metadata": {},
   "outputs": [
    {
     "data": {
      "text/plain": [
       "1"
      ]
     },
     "execution_count": 26,
     "metadata": {},
     "output_type": "execute_result"
    }
   ],
   "source": [
    "import pyautogui as py\n",
    "import time as t\n",
    "\n",
    "#ESTE ARQUIVO CARREGA O PRIMEIRO VALOR\n",
    "\n",
    "#COMO UTILIZAR: COLOQUE TODAS AS ESCRITURAÇÕES UM UMA PASTA SÓ\n",
    "#VERIFIQUE SE O TOTAL É PAR\n",
    "#IDENTIFIQUE O CAMINHO ONDE AS ESCRITURAÇÕES SE ENCONTRAM NA VARIÁVEL FOLDER\n",
    "#TROQUE AS BARRAS (/) POR BARRAS INVERTIDAS\n",
    "#RODE AMBOS O NAVEGADOR E O SPED EM TELA CHEIA, O PROGRAMA MINIMIZARÁ O NAVEGADOR AUTOMATICAMENTE\n",
    "\n",
    "#NÃO MOVIMENTE O MOUSE OU PRESSIONE TECLAS\n",
    "\n",
    "py.PAUSE = 0.3\n",
    "py.FAILSAFE = True\n",
    "\n",
    "folder1 = str(\""\)\n",
    "\n",
    "t.sleep(2)\n",
    "py.click(x=1816, y=15)\n",
    "t.sleep(2)\n",
    "py.click(x=44, y=60)\n",
    "t.sleep(2)\n",
    "py.click(x=865, y=676)\n",
    "py.write(folder1)\n",
    "py.click(x=1212, y=678)\n",
    "py.click(x=766, y=390)\n",
    "py.click(x=1212, y=678)\n",
    "t.sleep(8)\n",
    "py.click(x=958, y=545)\n",
    "t.sleep(2)\n",
    "py.click(x=1000, y=556)"
   ]
  },
  {
   "cell_type": "code",
   "execution_count": null,
   "id": "0cb6ce65",
   "metadata": {},
   "outputs": [],
   "source": [
    "import pyautogui as py\n",
    "import time as t\n",
    "import ctypes\n",
    "\n",
    "#ESTE ARQUIVO CARREGA O RESTO DOS ARQUIVOS\n",
    "\n",
    "#COMO UTILIZAR: COLOQUE TODAS AS ESCRITURAÇÕES UM UMA PASTA SÓ\n",
    "#VERIFIQUE SE O TOTAL É PAR\n",
    "#VERIFIQUE A QUANTIDADE, SUBTRAIA 2 E INSIRA NA PENÚLTIMA LINHA DE CÓDIGO (if cont == X <- INSIRA AQUI)\n",
    "#GERE O PRIMEIRO ARQUIVO UTILIZANDO O ESCOPO ACIMA\n",
    "#RODE O ARQUIVO E AGUARDE O TÉRMINO\n",
    "\n",
    "#NÃO MOVIMENTE O MOUSE OU PRESSIONE TECLAS\n",
    "\n",
    "py.PAUSE = 0.3\n",
    "\n",
    "cont = 2\n",
    "contagem = cont\n",
    "\n",
    "py.FAILSAFE = True\n",
    "\n",
    "t.sleep(2)\n",
    "py.click(x=1816, y=15)\n",
    "\n",
    "def gerar(contagem):\n",
    "    t.sleep(4)\n",
    "    py.click(x=44, y=60)\n",
    "    t.sleep(2)\n",
    "    py.click(x=766, y=390)\n",
    "    \n",
    "    py.PAUSE = 0.0\n",
    "    \n",
    "    while True:\n",
    "        py.press('down')\n",
    "        contagem = contagem - 1\n",
    "        if contagem == 0: break\n",
    "            \n",
    "    py.PAUSE = 0.3\n",
    "    \n",
    "    py.click(x=1212, y=678)\n",
    "    t.sleep(12)\n",
    "    py.click(x=958, y=545)\n",
    "    t.sleep(2)\n",
    "    py.click(x=1000, y=556)\n",
    "    return\n",
    "\n",
    "while True:            \n",
    "        gerar(contagem)\n",
    "\n",
    "        cont = cont + 2\n",
    "        contagem = cont\n",
    "        \n",
    "        if cont == 4: break\n",
    "\n",
    "ctypes.windll.user32.MessageBoxW(0, \"ARQUIVOS GERADOS COM SUCESSO!\", \"SUCESSO!!!\", 1)"
   ]
  },
  {
   "cell_type": "code",
   "execution_count": 9,
   "id": "3405a915",
   "metadata": {},
   "outputs": [
    {
     "data": {
      "text/plain": [
       "Point(x=1000, y=556)"
      ]
     },
     "execution_count": 9,
     "metadata": {},
     "output_type": "execute_result"
    }
   ],
   "source": [
    "import pyautogui as py\n",
    "import time as t\n",
    "\n",
    "t.sleep(2)\n",
    "py.position()\n"
   ]
  },
  {
   "cell_type": "code",
   "execution_count": null,
   "id": "1e87719d",
   "metadata": {},
   "outputs": [],
   "source": []
  }
 ],
 "metadata": {
  "kernelspec": {
   "display_name": "Python 3 (ipykernel)",
   "language": "python",
   "name": "python3"
  },
  "language_info": {
   "codemirror_mode": {
    "name": "ipython",
    "version": 3
   },
   "file_extension": ".py",
   "mimetype": "text/x-python",
   "name": "python",
   "nbconvert_exporter": "python",
   "pygments_lexer": "ipython3",
   "version": "3.11.5"
  }
 },
 "nbformat": 4,
 "nbformat_minor": 5
}
